{
  "nbformat": 4,
  "nbformat_minor": 0,
  "metadata": {
    "colab": {
      "name": "teste",
      "provenance": [],
      "collapsed_sections": [],
      "authorship_tag": "ABX9TyO0L6xKLJRhfyVLcmApzILS",
      "include_colab_link": true
    },
    "kernelspec": {
      "name": "python3",
      "display_name": "Python 3"
    },
    "language_info": {
      "name": "python"
    }
  },
  "cells": [
    {
      "cell_type": "markdown",
      "metadata": {
        "id": "view-in-github",
        "colab_type": "text"
      },
      "source": [
        "<a href=\"https://colab.research.google.com/github/vitskrieg/MEUS-RASCUNHOS/blob/main/teste.ipynb\" target=\"_parent\"><img src=\"https://colab.research.google.com/assets/colab-badge.svg\" alt=\"Open In Colab\"/></a>"
      ]
    },
    {
      "cell_type": "code",
      "execution_count": 2,
      "metadata": {
        "id": "qKDcVxMI-kLr"
      },
      "outputs": [],
      "source": [
        "import matplotlib.pyplot as plt\n",
        "import numpy as np\n",
        "import os\n",
        "import PIL\n",
        "from tensorflow.keras import layers\n",
        "import tensorflow as tf\n",
        "import pandas as pd\n",
        "import seaborn as sns\n",
        "import pickle\n",
        "import zipfile\n",
        "from google.colab import drive"
      ]
    },
    {
      "cell_type": "code",
      "source": [
        "drive.mount('/content/drive')"
      ],
      "metadata": {
        "colab": {
          "base_uri": "https://localhost:8080/"
        },
        "id": "k3WMUYaB-7eW",
        "outputId": "fb471aa3-69bd-49e4-aad0-30f443d54783"
      },
      "execution_count": 3,
      "outputs": [
        {
          "output_type": "stream",
          "name": "stdout",
          "text": [
            "Mounted at /content/drive\n"
          ]
        }
      ]
    },
    {
      "cell_type": "code",
      "source": [
        "path = '/content/drive/MyDrive/PROJETO_KART/kart_fotos_dataset.zip'\n",
        "zip_object = zipfile.ZipFile(file = path, mode = 'r')\n",
        "zip_object.extractall('./')\n",
        "zip_object.close()"
      ],
      "metadata": {
        "id": "fdZiwxAXAQcj"
      },
      "execution_count": 4,
      "outputs": []
    },
    {
      "cell_type": "code",
      "source": [
        "with open('/content/kart_fotos_dataset/train', 'rb') as training_data:\n",
        "  train = pickle.load(training_data)\n",
        "\n",
        "with open('/content/kart_fotos_dataset/test', 'rb') as test_data:\n",
        "  test = pickle.load(test_data)\n",
        "\n",
        "with open('/content/kart_fotos_dataset/valid', 'rb') as valid_data:\n",
        "  valid = pickle.load(valid_data)"
      ],
      "metadata": {
        "id": "VYHgZlxGEMEC"
      },
      "execution_count": null,
      "outputs": []
    },
    {
      "cell_type": "code",
      "source": [
        "X_train, y_train = train[''], train['']\n",
        "X_test, y_test = test[''], test['']\n",
        "X_valid, y_valid = valid[''], valid['']"
      ],
      "metadata": {
        "id": "JHvQZ2nMAjMO"
      },
      "execution_count": null,
      "outputs": []
    },
    {
      "cell_type": "code",
      "source": [
        ""
      ],
      "metadata": {
        "id": "Mr87MkidAjJM"
      },
      "execution_count": null,
      "outputs": []
    }
  ]
}